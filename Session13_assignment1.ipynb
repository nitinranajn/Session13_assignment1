{
 "cells": [
  {
   "cell_type": "markdown",
   "metadata": {},
   "source": [
    "Read the following data set:\n",
    "https://archive.ics.uci.edu/ml/machine-learning-databases/adult/adult.data\n",
    "Task:\n",
    "1. Create an sqlalchemy engine using a sample from the data set\n",
    "2. Write two basic update queries\n",
    "3. Write two delete queries\n",
    "4. Write two filter queries\n",
    "5. Write two function queries"
   ]
  },
  {
   "cell_type": "code",
   "execution_count": 3,
   "metadata": {},
   "outputs": [
    {
     "data": {
      "text/html": [
       "<div>\n",
       "<style scoped>\n",
       "    .dataframe tbody tr th:only-of-type {\n",
       "        vertical-align: middle;\n",
       "    }\n",
       "\n",
       "    .dataframe tbody tr th {\n",
       "        vertical-align: top;\n",
       "    }\n",
       "\n",
       "    .dataframe thead th {\n",
       "        text-align: right;\n",
       "    }\n",
       "</style>\n",
       "<table border=\"1\" class=\"dataframe\">\n",
       "  <thead>\n",
       "    <tr style=\"text-align: right;\">\n",
       "      <th></th>\n",
       "      <th>age</th>\n",
       "      <th>workclass</th>\n",
       "      <th>fnlwgt</th>\n",
       "      <th>education</th>\n",
       "      <th>education_num</th>\n",
       "      <th>marital_status</th>\n",
       "      <th>occupation</th>\n",
       "      <th>relationship</th>\n",
       "      <th>race</th>\n",
       "      <th>sex</th>\n",
       "      <th>capital_gain</th>\n",
       "      <th>capital_loss</th>\n",
       "      <th>hours_per_week</th>\n",
       "      <th>native_country</th>\n",
       "      <th>income</th>\n",
       "    </tr>\n",
       "  </thead>\n",
       "  <tbody>\n",
       "    <tr>\n",
       "      <th>0</th>\n",
       "      <td>50</td>\n",
       "      <td>Self-emp-not-inc</td>\n",
       "      <td>83311</td>\n",
       "      <td>Bachelors</td>\n",
       "      <td>13</td>\n",
       "      <td>Married-civ-spouse</td>\n",
       "      <td>Exec-managerial</td>\n",
       "      <td>Husband</td>\n",
       "      <td>White</td>\n",
       "      <td>Male</td>\n",
       "      <td>0</td>\n",
       "      <td>0</td>\n",
       "      <td>13</td>\n",
       "      <td>United-States</td>\n",
       "      <td>&lt;=50K</td>\n",
       "    </tr>\n",
       "    <tr>\n",
       "      <th>1</th>\n",
       "      <td>38</td>\n",
       "      <td>Private</td>\n",
       "      <td>215646</td>\n",
       "      <td>HS-grad</td>\n",
       "      <td>9</td>\n",
       "      <td>Divorced</td>\n",
       "      <td>Handlers-cleaners</td>\n",
       "      <td>Not-in-family</td>\n",
       "      <td>White</td>\n",
       "      <td>Male</td>\n",
       "      <td>0</td>\n",
       "      <td>0</td>\n",
       "      <td>40</td>\n",
       "      <td>United-States</td>\n",
       "      <td>&lt;=50K</td>\n",
       "    </tr>\n",
       "    <tr>\n",
       "      <th>2</th>\n",
       "      <td>53</td>\n",
       "      <td>Private</td>\n",
       "      <td>234721</td>\n",
       "      <td>11th</td>\n",
       "      <td>7</td>\n",
       "      <td>Married-civ-spouse</td>\n",
       "      <td>Handlers-cleaners</td>\n",
       "      <td>Husband</td>\n",
       "      <td>Black</td>\n",
       "      <td>Male</td>\n",
       "      <td>0</td>\n",
       "      <td>0</td>\n",
       "      <td>40</td>\n",
       "      <td>United-States</td>\n",
       "      <td>&lt;=50K</td>\n",
       "    </tr>\n",
       "    <tr>\n",
       "      <th>3</th>\n",
       "      <td>28</td>\n",
       "      <td>Private</td>\n",
       "      <td>338409</td>\n",
       "      <td>Bachelors</td>\n",
       "      <td>13</td>\n",
       "      <td>Married-civ-spouse</td>\n",
       "      <td>Prof-specialty</td>\n",
       "      <td>Wife</td>\n",
       "      <td>Black</td>\n",
       "      <td>Female</td>\n",
       "      <td>0</td>\n",
       "      <td>0</td>\n",
       "      <td>40</td>\n",
       "      <td>Cuba</td>\n",
       "      <td>&lt;=50K</td>\n",
       "    </tr>\n",
       "    <tr>\n",
       "      <th>4</th>\n",
       "      <td>37</td>\n",
       "      <td>Private</td>\n",
       "      <td>284582</td>\n",
       "      <td>Masters</td>\n",
       "      <td>14</td>\n",
       "      <td>Married-civ-spouse</td>\n",
       "      <td>Exec-managerial</td>\n",
       "      <td>Wife</td>\n",
       "      <td>White</td>\n",
       "      <td>Female</td>\n",
       "      <td>0</td>\n",
       "      <td>0</td>\n",
       "      <td>40</td>\n",
       "      <td>United-States</td>\n",
       "      <td>&lt;=50K</td>\n",
       "    </tr>\n",
       "  </tbody>\n",
       "</table>\n",
       "</div>"
      ],
      "text/plain": [
       "   age          workclass  fnlwgt   education  education_num  \\\n",
       "0   50   Self-emp-not-inc   83311   Bachelors             13   \n",
       "1   38            Private  215646     HS-grad              9   \n",
       "2   53            Private  234721        11th              7   \n",
       "3   28            Private  338409   Bachelors             13   \n",
       "4   37            Private  284582     Masters             14   \n",
       "\n",
       "        marital_status          occupation    relationship    race      sex  \\\n",
       "0   Married-civ-spouse     Exec-managerial         Husband   White     Male   \n",
       "1             Divorced   Handlers-cleaners   Not-in-family   White     Male   \n",
       "2   Married-civ-spouse   Handlers-cleaners         Husband   Black     Male   \n",
       "3   Married-civ-spouse      Prof-specialty            Wife   Black   Female   \n",
       "4   Married-civ-spouse     Exec-managerial            Wife   White   Female   \n",
       "\n",
       "   capital_gain  capital_loss  hours_per_week  native_country  income  \n",
       "0             0             0              13   United-States   <=50K  \n",
       "1             0             0              40   United-States   <=50K  \n",
       "2             0             0              40   United-States   <=50K  \n",
       "3             0             0              40            Cuba   <=50K  \n",
       "4             0             0              40   United-States   <=50K  "
      ]
     },
     "execution_count": 3,
     "metadata": {},
     "output_type": "execute_result"
    }
   ],
   "source": [
    "import random\n",
    "import numpy as np\n",
    "import pandas as pd\n",
    "import sqlite3\n",
    "from IPython.display import display\n",
    "# Read the following data set:\n",
    "# https://archive.ics.uci.edu/ml/machine-learning-databases/adult/adult.data\n",
    "adult_data_df = pd.read_csv('https://archive.ics.uci.edu/ml/machine-learning-databases/adult/adult.data')\n",
    "adult_data_df.columns =[\"age\",\"workclass\",\"fnlwgt\",\"education\",\"education_num\",\"marital_status\",\"occupation\",\"relationship\",\"race\",\"sex\",\"capital_gain\",\"capital_loss\",\"hours_per_week\",\"native_country\",\"income\"]\n",
    "adult_data_df.head()"
   ]
  },
  {
   "cell_type": "code",
   "execution_count": 39,
   "metadata": {},
   "outputs": [],
   "source": []
  },
  {
   "cell_type": "code",
   "execution_count": 51,
   "metadata": {},
   "outputs": [],
   "source": [
    "#1. Create an sqlalchemy engine using a sample from the data set\n",
    "import sqlalchemy\n",
    "from sqlalchemy import create_engine\n",
    "engine = create_engine('sqlite:///sqladb', echo=False)\n",
    "adult_data_df.to_sql('sqladb', engine, if_exists='replace')\n",
    "\n",
    "connection  = sqlite3.connect(\"sqladb\")\n",
    "cursor = connection.cursor()\n"
   ]
  },
  {
   "cell_type": "code",
   "execution_count": 52,
   "metadata": {},
   "outputs": [
    {
     "name": "stdout",
     "output_type": "stream",
     "text": [
      "   index  age          workclass  fnlwgt   education  education_num  \\\n",
      "0      0   50   Self-emp-not-inc   83311   Bachelors             13   \n",
      "1      1   38            Private  215646     HS-grad              9   \n",
      "2      2   53            Private  234721        11th              7   \n",
      "3      3   28            Private  338409   Bachelors             13   \n",
      "4      4   37            Private    2847     Masters             14   \n",
      "\n",
      "        marital_status          occupation    relationship    race      sex  \\\n",
      "0   Married-civ-spouse     Exec-managerial         Husband   White     Male   \n",
      "1             Divorced   Handlers-cleaners   Not-in-family   White     Male   \n",
      "2   Married-civ-spouse   Handlers-cleaners         Husband   Black     Male   \n",
      "3   Married-civ-spouse      Prof-specialty            Wife   Black   Female   \n",
      "4   Married-civ-spouse     Exec-managerial            Wife   White   Female   \n",
      "\n",
      "   capital_gain  capital_loss  hours_per_week  native_country  income  \n",
      "0             0             0              13   United-States   <=50K  \n",
      "1             0             0              40   United-States   <=50K  \n",
      "2             0             0              40   United-States   <=50K  \n",
      "3             0             0              40            Cuba   <=50K  \n",
      "4             0             0              40   United-States   <=50K  \n"
     ]
    }
   ],
   "source": [
    "# 2. Write two basic update queries\n",
    "cursor.execute('UPDATE sqladb SET fnlwgt = \"2847\" WHERE fnlwgt = \" 284582\"')\n",
    "print(pd.read_sql_query(\"SELECT * FROM sqladb\", connection).head())"
   ]
  },
  {
   "cell_type": "code",
   "execution_count": 53,
   "metadata": {},
   "outputs": [
    {
     "name": "stdout",
     "output_type": "stream",
     "text": [
      "       index  age       workclass  fnlwgt    education  education_num  \\\n",
      "32555  32555   27  Private Sector  257302   Assoc-acdm             12   \n",
      "32556  32556   40  Private Sector  154374      HS-grad              9   \n",
      "32557  32557   58  Private Sector  151910      HS-grad              9   \n",
      "32558  32558   22  Private Sector  201490      HS-grad              9   \n",
      "32559  32559   52    Self-emp-inc  287927      HS-grad              9   \n",
      "\n",
      "            marital_status          occupation relationship    race      sex  \\\n",
      "32555   Married-civ-spouse        Tech-support         Wife   White   Female   \n",
      "32556   Married-civ-spouse   Machine-op-inspct      Husband   White     Male   \n",
      "32557              Widowed        Adm-clerical    Unmarried   White   Female   \n",
      "32558        Never-married        Adm-clerical    Own-child   White     Male   \n",
      "32559   Married-civ-spouse     Exec-managerial         Wife   White   Female   \n",
      "\n",
      "       capital_gain  capital_loss  hours_per_week  native_country  income  \n",
      "32555             0             0              38   United-States   <=50K  \n",
      "32556             0             0              40   United-States    >50K  \n",
      "32557             0             0              40   United-States   <=50K  \n",
      "32558             0             0              20   United-States   <=50K  \n",
      "32559         15024             0              40   United-States    >50K  \n"
     ]
    }
   ],
   "source": [
    "# Second\n",
    "cursor.execute('UPDATE sqladb SET workclass = \"Private Sector\" WHERE workclass = \" Private\"')\n",
    "print(pd.read_sql_query(\"SELECT * FROM sqladb\", connection).tail())"
   ]
  },
  {
   "cell_type": "code",
   "execution_count": 54,
   "metadata": {},
   "outputs": [
    {
     "name": "stdout",
     "output_type": "stream",
     "text": [
      "   index  age          workclass  fnlwgt   education  education_num  \\\n",
      "0      0   50   Self-emp-not-inc   83311   Bachelors             13   \n",
      "1      1   38     Private Sector  215646     HS-grad              9   \n",
      "2      2   53     Private Sector  234721        11th              7   \n",
      "3      3   28     Private Sector  338409   Bachelors             13   \n",
      "4      4   37     Private Sector    2847     Masters             14   \n",
      "\n",
      "        marital_status          occupation    relationship    race      sex  \\\n",
      "0   Married-civ-spouse     Exec-managerial         Husband   White     Male   \n",
      "1             Divorced   Handlers-cleaners   Not-in-family   White     Male   \n",
      "2   Married-civ-spouse   Handlers-cleaners         Husband   Black     Male   \n",
      "3   Married-civ-spouse      Prof-specialty            Wife   Black   Female   \n",
      "4   Married-civ-spouse     Exec-managerial            Wife   White   Female   \n",
      "\n",
      "   capital_gain  capital_loss  hours_per_week  native_country  income  \n",
      "0             0             0              13   United-States   <=50K  \n",
      "1             0             0              40   United-States   <=50K  \n",
      "2             0             0              40   United-States   <=50K  \n",
      "3             0             0              40            Cuba   <=50K  \n",
      "4             0             0              40   United-States   <=50K  \n"
     ]
    }
   ],
   "source": [
    "# 3. Write two delete queries\n",
    "# one\n",
    "cursor.execute('DELETE FROM sqladb WHERE fnlwgt = \" 201490\"')\n",
    "print(pd.read_sql_query(\"SELECT * FROM sqladb\", connection).head())"
   ]
  },
  {
   "cell_type": "code",
   "execution_count": 55,
   "metadata": {},
   "outputs": [
    {
     "name": "stdout",
     "output_type": "stream",
     "text": [
      "   index  age          workclass  fnlwgt   education  education_num  \\\n",
      "0      0   50   Self-emp-not-inc   83311   Bachelors             13   \n",
      "1      2   53     Private Sector  234721        11th              7   \n",
      "2      3   28     Private Sector  338409   Bachelors             13   \n",
      "3      4   37     Private Sector    2847     Masters             14   \n",
      "4      5   49     Private Sector  160187         9th              5   \n",
      "\n",
      "           marital_status          occupation    relationship    race  \\\n",
      "0      Married-civ-spouse     Exec-managerial         Husband   White   \n",
      "1      Married-civ-spouse   Handlers-cleaners         Husband   Black   \n",
      "2      Married-civ-spouse      Prof-specialty            Wife   Black   \n",
      "3      Married-civ-spouse     Exec-managerial            Wife   White   \n",
      "4   Married-spouse-absent       Other-service   Not-in-family   Black   \n",
      "\n",
      "       sex  capital_gain  capital_loss  hours_per_week  native_country  income  \n",
      "0     Male             0             0              13   United-States   <=50K  \n",
      "1     Male             0             0              40   United-States   <=50K  \n",
      "2   Female             0             0              40            Cuba   <=50K  \n",
      "3   Female             0             0              40   United-States   <=50K  \n",
      "4   Female             0             0              16         Jamaica   <=50K  \n"
     ]
    }
   ],
   "source": [
    "# Second\n",
    "cursor.execute('DELETE FROM sqladb WHERE age = \" 38\" AND fnlwgt = \" 215646\"')\n",
    "print(pd.read_sql_query(\"SELECT * FROM sqladb\", connection).head(5))"
   ]
  },
  {
   "cell_type": "code",
   "execution_count": 56,
   "metadata": {},
   "outputs": [
    {
     "name": "stdout",
     "output_type": "stream",
     "text": [
      "[(12965, 23, 'Private Sector', 526164, ' Bachelors', 13, ' Never-married', ' Adm-clerical', ' Unmarried', ' Black', ' Female', 0, 0, 40, ' United-States', ' <=50K'), (16657, 22, 'Private Sector', 203182, ' Bachelors', 13, ' Never-married', ' Exec-managerial', ' Unmarried', ' White', ' Female', 0, 0, 30, ' United-States', ' <=50K'), (20335, 24, 'Private Sector', 187937, ' Bachelors', 13, ' Never-married', ' Prof-specialty', ' Unmarried', ' White', ' Female', 0, 0, 40, ' United-States', ' <=50K'), (31478, 24, 'Private Sector', 498349, ' Bachelors', 13, ' Never-married', ' Transport-moving', ' Unmarried', ' Black', ' Female', 0, 0, 40, ' United-States', ' <=50K')]\n"
     ]
    }
   ],
   "source": [
    "# 4. Write two filter queries\n",
    "# One\n",
    "cursor.execute('SELECT DISTINCT * FROM sqladb WHERE education = \" Bachelors\" AND age < 25 AND relationship = \" Unmarried\" AND sex = \" Female\" and native_country=\" United-States\"')\n",
    "output = cursor.fetchall()\n",
    "print(output)"
   ]
  },
  {
   "cell_type": "code",
   "execution_count": 57,
   "metadata": {},
   "outputs": [
    {
     "name": "stdout",
     "output_type": "stream",
     "text": [
      "[(10, 30, ' State-gov', 141297, ' Bachelors', 13, ' Married-civ-spouse', ' Prof-specialty', ' Husband', ' Asian-Pac-Islander', ' Male', 0, 0, 40, ' India', ' >50K'), (967, 48, 'Private Sector', 164966, ' Bachelors', 13, ' Married-civ-spouse', ' Exec-managerial', ' Husband', ' Asian-Pac-Islander', ' Male', 0, 0, 40, ' India', ' >50K'), (1094, 22, ' Self-emp-not-inc', 361280, ' Bachelors', 13, ' Never-married', ' Prof-specialty', ' Own-child', ' Asian-Pac-Islander', ' Male', 0, 0, 20, ' India', ' <=50K'), (4479, 30, 'Private Sector', 302149, ' Bachelors', 13, ' Married-civ-spouse', ' Sales', ' Husband', ' Asian-Pac-Islander', ' Male', 0, 0, 40, ' India', ' <=50K'), (4511, 29, 'Private Sector', 193260, ' Bachelors', 13, ' Married-civ-spouse', ' Craft-repair', ' Other-relative', ' Asian-Pac-Islander', ' Male', 0, 0, 30, ' India', ' <=50K'), (10106, 31, 'Private Sector', 341672, ' Bachelors', 13, ' Married-civ-spouse', ' Adm-clerical', ' Husband', ' Asian-Pac-Islander', ' Male', 0, 0, 60, ' India', ' <=50K'), (11834, 38, 'Private Sector', 167725, ' Bachelors', 13, ' Married-spouse-absent', ' Transport-moving', ' Not-in-family', ' Other', ' Male', 0, 0, 84, ' India', ' <=50K'), (13421, 53, 'Private Sector', 366957, ' Bachelors', 13, ' Married-civ-spouse', ' Exec-managerial', ' Husband', ' Asian-Pac-Islander', ' Male', 99999, 0, 50, ' India', ' >50K'), (13861, 45, 'Private Sector', 209912, ' Bachelors', 13, ' Married-civ-spouse', ' Exec-managerial', ' Husband', ' Asian-Pac-Islander', ' Male', 0, 0, 40, ' India', ' >50K'), (18555, 26, ' State-gov', 147719, ' Bachelors', 13, ' Never-married', ' Prof-specialty', ' Not-in-family', ' Asian-Pac-Islander', ' Male', 0, 0, 20, ' India', ' <=50K'), (21129, 49, 'Private Sector', 176341, ' Bachelors', 13, ' Never-married', ' Tech-support', ' Unmarried', ' Asian-Pac-Islander', ' Female', 0, 0, 40, ' India', ' <=50K'), (23021, 34, ' Self-emp-not-inc', 100079, ' Bachelors', 13, ' Married-civ-spouse', ' Sales', ' Husband', ' Asian-Pac-Islander', ' Male', 0, 0, 55, ' India', ' <=50K'), (24153, 46, 'Private Sector', 229737, ' Bachelors', 13, ' Married-civ-spouse', ' Sales', ' Husband', ' White', ' Male', 0, 0, 50, ' India', ' >50K'), (24980, 43, ' Self-emp-inc', 140988, ' Bachelors', 13, ' Married-civ-spouse', ' Sales', ' Other-relative', ' Asian-Pac-Islander', ' Male', 0, 0, 45, ' India', ' <=50K'), (26304, 27, 'Private Sector', 207352, ' Bachelors', 13, ' Married-civ-spouse', ' Tech-support', ' Husband', ' Asian-Pac-Islander', ' Male', 0, 0, 40, ' India', ' >50K'), (27973, 33, 'Private Sector', 173858, ' Bachelors', 13, ' Married-civ-spouse', ' Adm-clerical', ' Other-relative', ' Asian-Pac-Islander', ' Male', 0, 0, 40, ' India', ' <=50K'), (29206, 25, ' Local-gov', 124483, ' Bachelors', 13, ' Never-married', ' Adm-clerical', ' Not-in-family', ' Asian-Pac-Islander', ' Male', 0, 0, 20, ' India', ' <=50K'), (29727, 32, 'Private Sector', 79586, ' Bachelors', 13, ' Married-civ-spouse', ' Prof-specialty', ' Husband', ' Asian-Pac-Islander', ' Male', 0, 0, 40, ' India', ' <=50K'), (31326, 38, ' State-gov', 125499, ' Bachelors', 13, ' Married-civ-spouse', ' Prof-specialty', ' Husband', ' Asian-Pac-Islander', ' Male', 7688, 0, 60, ' India', ' >50K')]\n"
     ]
    }
   ],
   "source": [
    "# Second\n",
    "cursor.execute('SELECT DISTINCT * FROM sqladb WHERE education = \" Bachelors\" and age < 55 and income <= \"50k\" and native_country=\" India\"')\n",
    "output = cursor.fetchall()\n",
    "print(output)"
   ]
  },
  {
   "cell_type": "code",
   "execution_count": 58,
   "metadata": {},
   "outputs": [],
   "source": [
    "# 5. Write two function queries\n",
    "\n",
    "def new_entry(db_file, new_data):\n",
    "    \n",
    "    query = \"INSERT INTO sqladb VALUES (?, ?, ?, ?, ?, ?, ?, ?, ?, ?, ?, ?, ?, ?, ?, ?);\"\n",
    "\n",
    "    cursor.execute(query, list(new_data))\n",
    "    cursor.close()\n",
    "    connection.close()\n",
    "\n",
    "new_entry('sqladb',('32660', '30','Private', '7861369', 'Masters', '9', 'Married', 'Front_End', 'In_Family', 'Indian', 'Male', '0', '0', '40', 'United-States', '>=50K'))\n"
   ]
  },
  {
   "cell_type": "code",
   "execution_count": null,
   "metadata": {},
   "outputs": [],
   "source": []
  },
  {
   "cell_type": "code",
   "execution_count": null,
   "metadata": {},
   "outputs": [],
   "source": []
  }
 ],
 "metadata": {
  "kernelspec": {
   "display_name": "Python 3",
   "language": "python",
   "name": "python3"
  },
  "language_info": {
   "codemirror_mode": {
    "name": "ipython",
    "version": 3
   },
   "file_extension": ".py",
   "mimetype": "text/x-python",
   "name": "python",
   "nbconvert_exporter": "python",
   "pygments_lexer": "ipython3",
   "version": "3.7.0"
  }
 },
 "nbformat": 4,
 "nbformat_minor": 2
}
